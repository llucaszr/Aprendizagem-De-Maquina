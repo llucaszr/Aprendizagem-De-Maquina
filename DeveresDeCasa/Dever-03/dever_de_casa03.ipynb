{
  "nbformat": 4,
  "nbformat_minor": 0,
  "metadata": {
    "colab": {
      "provenance": []
    },
    "kernelspec": {
      "name": "python3",
      "display_name": "Python 3"
    },
    "language_info": {
      "name": "python"
    }
  },
  "cells": [
    {
      "cell_type": "code",
      "source": [
        "import csv\n",
        "\n",
        "# Cria o arquivo CSV\n",
        "with open('dados.csv', 'w', newline='') as csvfile:\n",
        "    writer = csv.writer(csvfile)\n",
        "    writer.writerow(['Nome', 'Idade'])\n",
        "    writer.writerow(['Ana', 25])\n",
        "    writer.writerow(['Bruno', 30])\n",
        "    writer.writerow(['Carla', 22])\n",
        "    writer.writerow(['Daniel', 28])\n",
        "    writer.writerow(['Eduardo', 35])\n",
        "\n",
        "# Lê o arquivo CSV e armazena os dados em uma lista\n",
        "dados = []\n",
        "with open('dados.csv', 'r') as csvfile:\n",
        "    reader = csv.DictReader(csvfile)\n",
        "    for row in reader:\n",
        "        dados.append(row)\n",
        "\n",
        "# Solicita ao usuário para digitar um nome\n",
        "nome_digitado = input(\"Digite um nome: \").capitalize()\n",
        "\n",
        "# Verifica se o nome digitado está na lista (ignorando maiúsculas/minúsculas)\n",
        "nome_encontrado = False\n",
        "for pessoa in dados:\n",
        "    if pessoa['Nome'].capitalize() == nome_digitado:\n",
        "        nome_encontrado = True\n",
        "        idade = int(pessoa['Idade'])\n",
        "\n",
        "        # Encontra a pessoa mais velha\n",
        "        idades = [int(pessoa['Idade']) for pessoa in dados]\n",
        "        pessoa_mais_velha = max(idades)\n",
        "\n",
        "        # Exibe o nome, idade e se é a pessoa mais velha\n",
        "        if idade == pessoa_mais_velha:\n",
        "            print(f\"{pessoa['Nome']} tem {idade} anos, é a pessoa mais velha da lista.\")\n",
        "        else:\n",
        "            print(f\"{pessoa['Nome']} tem {idade} anos, não é a pessoa mais velha da lista.\")\n",
        "        break\n",
        "\n",
        "# Se o nome não for encontrado\n",
        "if not nome_encontrado:\n",
        "    print(f\"Nome '{nome_digitado}' não encontrado na lista.\")\n"
      ],
      "metadata": {
        "colab": {
          "base_uri": "https://localhost:8080/"
        },
        "id": "ZopswD_-ctrZ",
        "outputId": "48f4e078-cd29-4e87-bb89-9f7194afc11a"
      },
      "execution_count": 28,
      "outputs": [
        {
          "output_type": "stream",
          "name": "stdout",
          "text": [
            "Digite um nome: Carla\n",
            "Carla tem 22 anos, não é a pessoa mais velha da lista.\n"
          ]
        }
      ]
    },
    {
      "cell_type": "code",
      "source": [
        "import csv\n",
        "\n",
        "# Cria o arquivo CSV\n",
        "with open('dados.csv', 'w', newline='') as csvfile:\n",
        "    writer = csv.writer(csvfile)\n",
        "    writer.writerow(['Nome', 'Idade'])\n",
        "    writer.writerow(['Ana', 25])\n",
        "    writer.writerow(['Bruno', 30])\n",
        "    writer.writerow(['Carla', 22])\n",
        "    writer.writerow(['Daniel', 28])\n",
        "    writer.writerow(['Eduardo', 35])\n",
        "\n",
        "# Lê o arquivo CSV e armazena os dados em uma lista\n",
        "dados = []\n",
        "with open('dados.csv', 'r') as csvfile:\n",
        "    reader = csv.DictReader(csvfile)\n",
        "    for row in reader:\n",
        "        dados.append(row)\n",
        "\n",
        "# Solicita ao usuário para digitar um nome\n",
        "nome_digitado = input(\"Digite um nome: \").capitalize()\n",
        "\n",
        "# Verifica se o nome digitado está na lista (ignorando maiúsculas/minúsculas)\n",
        "nome_encontrado = False\n",
        "for pessoa in dados:\n",
        "    if pessoa['Nome'].capitalize() == nome_digitado:\n",
        "        nome_encontrado = True\n",
        "        idade = int(pessoa['Idade'])\n",
        "\n",
        "        # Encontra a pessoa mais velha\n",
        "        idades = [int(pessoa['Idade']) for pessoa in dados]\n",
        "        pessoa_mais_velha = max(idades)\n",
        "\n",
        "        # Exibe o nome, idade e se é a pessoa mais velha\n",
        "        if idade == pessoa_mais_velha:\n",
        "            print(f\"{pessoa['Nome']} tem {idade} anos, é a pessoa mais velha da lista.\")\n",
        "        else:\n",
        "            print(f\"{pessoa['Nome']} tem {idade} anos, não é a pessoa mais velha da lista.\")\n",
        "        break\n",
        "\n",
        "# Se o nome não for encontrado\n",
        "if not nome_encontrado:\n",
        "    print(f\"Nome '{nome_digitado}' não encontrado na lista.\")\n"
      ],
      "metadata": {
        "colab": {
          "base_uri": "https://localhost:8080/"
        },
        "id": "myEfgt0mgdsZ",
        "outputId": "2aa4c40d-aeda-4aba-f4fa-6b36c65bc2a7"
      },
      "execution_count": 30,
      "outputs": [
        {
          "output_type": "stream",
          "name": "stdout",
          "text": [
            "Digite um nome: João\n",
            "Nome 'João' não encontrado na lista.\n"
          ]
        }
      ]
    }
  ]
}
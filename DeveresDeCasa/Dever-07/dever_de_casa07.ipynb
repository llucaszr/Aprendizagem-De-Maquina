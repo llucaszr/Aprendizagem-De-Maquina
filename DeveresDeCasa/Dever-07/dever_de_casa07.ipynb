{
  "nbformat": 4,
  "nbformat_minor": 0,
  "metadata": {
    "colab": {
      "provenance": []
    },
    "kernelspec": {
      "name": "python3",
      "display_name": "Python 3"
    },
    "language_info": {
      "name": "python"
    }
  },
  "cells": [
    {
      "cell_type": "code",
      "source": [
        "from sklearn.model_selection import train_test_split\n",
        "from sklearn.linear_model import LinearRegression\n",
        "from sklearn.metrics import accuracy_score\n",
        "from sklearn import metrics\n",
        "from sklearn import metrics\n",
        "import pandas as pd\n",
        "\n",
        "massData = pd.read_csv(\"./Advertising.csv\", index_col=0)\n",
        "reglin = LinearRegression()\n",
        "\n",
        "X = massData[[\"TV\",\"radio\",\"newspaper\"]]\n",
        "y = massData[\"sales\"]\n",
        "\n",
        "X_train, X_test, y_train, y_test = train_test_split(X, y, test_size=0.25, random_state=42)\n",
        "\n",
        "\n",
        "reglin.fit(X_train, y_train)\n",
        "print(reglin.coef_)\n",
        "\n",
        "previsoes = reglin.predict(X_test)\n",
        "print ((metrics.mean_squared_error (y_test, previsoes))** 0.5)"
      ],
      "metadata": {
        "id": "x120uQtCnc2o",
        "outputId": "d16ddd95-93b3-4d09-c884-60477ebc9f2d",
        "colab": {
          "base_uri": "https://localhost:8080/"
        }
      },
      "execution_count": 2,
      "outputs": [
        {
          "output_type": "stream",
          "name": "stdout",
          "text": [
            "[0.04543356 0.19145654 0.00256809]\n",
            "1.697063266379363\n"
          ]
        }
      ]
    }
  ]
}
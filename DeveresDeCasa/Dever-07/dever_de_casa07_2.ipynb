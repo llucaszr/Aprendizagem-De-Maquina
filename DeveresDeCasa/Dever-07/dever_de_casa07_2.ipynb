{
  "nbformat": 4,
  "nbformat_minor": 0,
  "metadata": {
    "colab": {
      "provenance": []
    },
    "kernelspec": {
      "name": "python3",
      "display_name": "Python 3"
    },
    "language_info": {
      "name": "python"
    }
  },
  "cells": [
    {
      "cell_type": "code",
      "source": [
        "from sklearn.model_selection import KFold\n",
        "from sklearn.datasets import load_iris\n",
        "from sklearn.linear_model import LogisticRegression\n",
        "\n",
        "X, y = load_iris(return_X_y=True)\n",
        "K = 5\n",
        "\n",
        "kf = KFold(n_splits=K, shuffle=True, random_state=42)\n",
        "i =[]\n",
        "for train_index, test_index in kf.split(X):\n",
        "    X_treino, X_teste = X[train_index], X[test_index]\n",
        "    y_treino, y_teste = y[train_index], y[test_index]\n",
        "    modelo = LogisticRegression()\n",
        "    modelo.fit(X_treino, y_treino)\n",
        "    i.append(modelo.score(X_teste, y_teste))\n",
        "print(sum(i)/len(i))"
      ],
      "metadata": {
        "colab": {
          "base_uri": "https://localhost:8080/"
        },
        "id": "KiUJzubZquFt",
        "outputId": "3e550cfa-b87d-4221-d3cb-de1cbd962fac"
      },
      "execution_count": 5,
      "outputs": [
        {
          "output_type": "stream",
          "name": "stdout",
          "text": [
            "0.9733333333333334\n"
          ]
        }
      ]
    }
  ]
}
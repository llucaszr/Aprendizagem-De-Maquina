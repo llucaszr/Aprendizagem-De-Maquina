{
  "nbformat": 4,
  "nbformat_minor": 0,
  "metadata": {
    "colab": {
      "provenance": []
    },
    "kernelspec": {
      "name": "python3",
      "display_name": "Python 3"
    },
    "language_info": {
      "name": "python"
    }
  },
  "cells": [
    {
      "cell_type": "code",
      "source": [
        "import pandas as pd\n",
        "from sklearn.model_selection import train_test_split\n",
        "from sklearn.linear_model import LogisticRegression\n",
        "\n",
        "# Carregando os dados do arquivo CSV (se o arquivo já existir)\n",
        "try:\n",
        "    df = pd.read_csv('imc_data.csv')\n",
        "except FileNotFoundError:\n",
        "    # Criando um DataFrame com dados de exemplo (se o arquivo não existir)\n",
        "    data = {\n",
        "        'IMC': [18.5, 20.0, 25.0, 30.0, 35.0, 22.0, 28.0, 32.0, 19.0, 26.0],\n",
        "        'Obeso': [False, False, False, True, True, False, True, True, False, False]\n",
        "    }\n",
        "    df = pd.DataFrame(data)\n",
        "    df.to_csv('imc_data.csv', index=False)\n",
        "\n",
        "# Separando os recursos (IMC) e a variável alvo (Obeso)\n",
        "X = df[['IMC']]\n",
        "y = df['Obeso']\n",
        "\n",
        "# Dividindo os dados em conjuntos de treinamento e teste\n",
        "X_train, X_test, y_train, y_test = train_test_split(X, y, test_size=0.2, random_state=42)\n",
        "\n",
        "# Criando e treinando um modelo de Regressão Logística\n",
        "model = LogisticRegression()\n",
        "model.fit(X_train, y_train)\n",
        "\n",
        "# Função para prever a obesidade com base no IMC\n",
        "def prever_obesidade(imc):\n",
        "    predicao = model.predict([[imc]])\n",
        "    return predicao[0]\n",
        "\n",
        "# Exemplo de uso da função\n",
        "novo_imc = 40\n",
        "obesidade = prever_obesidade(novo_imc)\n",
        "print(f\"Um IMC de {novo_imc} é classificado como obeso: {obesidade}\")\n",
        "\n",
        "novo_imc = 17\n",
        "obesidade = prever_obesidade(novo_imc)\n",
        "print(f\"Um IMC de {novo_imc} é classificado como obeso: {obesidade}\")\n"
      ],
      "metadata": {
        "colab": {
          "base_uri": "https://localhost:8080/"
        },
        "id": "P2lUjCEK7si6",
        "outputId": "43010216-f381-400b-91a7-65996c967e4a"
      },
      "execution_count": 16,
      "outputs": [
        {
          "output_type": "stream",
          "name": "stdout",
          "text": [
            "Um IMC de 40 é classificado como obeso: True\n",
            "Um IMC de 17 é classificado como obeso: False\n"
          ]
        },
        {
          "output_type": "stream",
          "name": "stderr",
          "text": [
            "/usr/local/lib/python3.11/dist-packages/sklearn/utils/validation.py:2739: UserWarning: X does not have valid feature names, but LogisticRegression was fitted with feature names\n",
            "  warnings.warn(\n",
            "/usr/local/lib/python3.11/dist-packages/sklearn/utils/validation.py:2739: UserWarning: X does not have valid feature names, but LogisticRegression was fitted with feature names\n",
            "  warnings.warn(\n"
          ]
        }
      ]
    }
  ]
}
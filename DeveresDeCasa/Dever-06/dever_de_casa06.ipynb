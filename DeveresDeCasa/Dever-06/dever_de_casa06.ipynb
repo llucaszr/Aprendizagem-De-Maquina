{
  "nbformat": 4,
  "nbformat_minor": 0,
  "metadata": {
    "colab": {
      "provenance": []
    },
    "kernelspec": {
      "name": "python3",
      "display_name": "Python 3"
    },
    "language_info": {
      "name": "python"
    }
  },
  "cells": [
    {
      "cell_type": "code",
      "source": [
        "from sklearn.datasets import load_iris\n",
        "from sklearn.neighbors import KNeighborsClassifier\n",
        "\n",
        "# Carregar o dataset Iris\n",
        "iris = load_iris()\n",
        "\n",
        "X = iris.data  # Características\n",
        "y = iris.target  # Rótulos\n",
        "nomes_especies = iris.target_names  # Nomes das espécies\n",
        "\n",
        "# Criar e treinar o modelo KNN\n",
        "modelo = KNeighborsClassifier(n_neighbors=3)\n",
        "modelo.fit(X, y)\n",
        "\n",
        "# Solicitar as medidas ao usuário\n",
        "sepal_length = float(input(\"Digite o comprimento da sépala (cm): \"))\n",
        "sepal_width = float(input(\"Digite a largura da sépala (cm): \"))\n",
        "petal_length = float(input(\"Digite o comprimento da pétala (cm): \"))\n",
        "petal_width = float(input(\"Digite a largura da pétala (cm): \"))\n",
        "\n",
        "sepal_length2 = float(input(\"Digite o comprimento da sépala (cm): \"))\n",
        "sepal_width2 = float(input(\"Digite a largura da sépala (cm): \"))\n",
        "petal_length2 = float(input(\"Digite o comprimento da pétala (cm): \"))\n",
        "petal_width2 = float(input(\"Digite a largura da pétala (cm): \"))\n",
        "\n",
        "# Fazer a predição\n",
        "nova_flor = [\n",
        "    [sepal_length, sepal_width, petal_length, petal_width],\n",
        "    [sepal_length2, sepal_width2, petal_length2, petal_width2]\n",
        "]\n",
        "predicao = modelo.predict(nova_flor)\n",
        "\n",
        "# Imprimir o resultado\n",
        "print(f\"A primeira flor provavelmente é uma {nomes_especies[predicao[0]]}\")\n",
        "print(f\"A segunda flor provavelmente é uma {nomes_especies[predicao[1]]}\")\n"
      ],
      "metadata": {
        "id": "CbPocaCdKIfb",
        "outputId": "975fb5fb-405f-4aa0-b5d0-da9c420b41a3",
        "colab": {
          "base_uri": "https://localhost:8080/"
        }
      },
      "execution_count": 10,
      "outputs": [
        {
          "output_type": "stream",
          "name": "stdout",
          "text": [
            "Digite o comprimento da sépala (cm): 5.1\n",
            "Digite a largura da sépala (cm): 3.5\n",
            "Digite o comprimento da pétala (cm): 1.4\n",
            "Digite a largura da pétala (cm): 0.2\n",
            "Digite o comprimento da sépala (cm): 6.3\n",
            "Digite a largura da sépala (cm): 3.3\n",
            "Digite o comprimento da pétala (cm): 6.0\n",
            "Digite a largura da pétala (cm): 2.5\n",
            "A primeira flor provavelmente é uma setosa\n",
            "A segunda flor provavelmente é uma virginica\n"
          ]
        }
      ]
    }
  ]
}
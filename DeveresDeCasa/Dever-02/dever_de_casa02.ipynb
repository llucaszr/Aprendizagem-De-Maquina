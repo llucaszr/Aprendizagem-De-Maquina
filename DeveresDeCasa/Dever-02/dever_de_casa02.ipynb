{
  "nbformat": 4,
  "nbformat_minor": 0,
  "metadata": {
    "colab": {
      "provenance": []
    },
    "kernelspec": {
      "name": "python3",
      "display_name": "Python 3"
    },
    "language_info": {
      "name": "python"
    }
  },
  "cells": [
    {
      "cell_type": "code",
      "execution_count": 2,
      "metadata": {
        "colab": {
          "base_uri": "https://localhost:8080/"
        },
        "id": "6Rwi6PCB13jr",
        "outputId": "956f4061-11be-453b-a493-5c46652aabd6"
      },
      "outputs": [
        {
          "output_type": "stream",
          "name": "stdout",
          "text": [
            "Digite uma frase: O dia está quente hoje\n",
            "\n",
            "===== Análise da Frase =====\n",
            "Número total de caracteres: 22\n",
            "Número total de palavras: 5\n",
            "Maior palavra: quente\n",
            "\n",
            "===== Manipulação e Formatação =====\n",
            "Frase invertida (por caracteres): ejoh etneuq átse aid O\n",
            "Frase com palavras invertidas: hoje quente está dia O\n",
            "Frase em maiúsculas: O DIA ESTÁ QUENTE HOJE\n",
            "Frase em minúsculas: o dia está quente hoje\n",
            "Tupla de palavras: ('O', 'dia', 'está', 'quente', 'hoje')\n"
          ]
        }
      ],
      "source": [
        "#Entrada do usuário\n",
        "\n",
        "def obter_frase():\n",
        "    while True:\n",
        "        frase = input(\"Digite uma frase: \").strip()\n",
        "        if frase:\n",
        "            return frase\n",
        "        print(\"Erro: A entrada não pode estar vazia. Tente novamente.\")\n",
        "\n",
        "\n",
        "# Analisar a frase\n",
        "def analisar_frase(frase):\n",
        "    num_caracteres = len(frase)\n",
        "    palavras = frase.split()\n",
        "    num_palavras = len(palavras)\n",
        "    maior_palavra = max(palavras, key=len) if palavras else \"\"\n",
        "\n",
        "    return num_caracteres, num_palavras, maior_palavra, palavras\n",
        "\n",
        "#Manipulação das palavras e frases\n",
        "def manipular_frase(frase, palavras):\n",
        "    frase_invertida = frase[::-1]\n",
        "    palavras_invertidas = \" \".join(reversed(palavras))\n",
        "    frase_maiuscula = frase.upper()\n",
        "    frase_minuscula = frase.lower()\n",
        "    tupla_palavras = tuple(palavras)\n",
        "\n",
        "    return frase_invertida, palavras_invertidas, frase_maiuscula, frase_minuscula, tupla_palavras\n",
        "\n",
        "# Programa principal\n",
        "frase_usuario = obter_frase()\n",
        "num_caracteres, num_palavras, maior_palavra, palavras = analisar_frase(frase_usuario)\n",
        "frase_invertida, palavras_invertidas, frase_maiuscula, frase_minuscula, tupla_palavras = manipular_frase(frase_usuario, palavras)\n",
        "\n",
        "# Analise da frase\n",
        "print(\"\\n===== Análise da Frase =====\")\n",
        "print(f\"Número total de caracteres: {num_caracteres}\")\n",
        "print(f\"Número total de palavras: {num_palavras}\")\n",
        "print(f\"Maior palavra: {maior_palavra}\")\n",
        "print(\"\\n===== Manipulação e Formatação =====\")\n",
        "print(f\"Frase invertida (por caracteres): {frase_invertida}\")\n",
        "print(f\"Frase com palavras invertidas: {palavras_invertidas}\")\n",
        "print(f\"Frase em maiúsculas: {frase_maiuscula}\")\n",
        "print(f\"Frase em minúsculas: {frase_minuscula}\")\n",
        "print(f\"Tupla de palavras: {tupla_palavras}\")\n"
      ]
    },
    {
      "cell_type": "code",
      "source": [],
      "metadata": {
        "id": "-v8SThvF6trQ"
      },
      "execution_count": null,
      "outputs": []
    }
  ]
}